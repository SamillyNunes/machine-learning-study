{
  "nbformat": 4,
  "nbformat_minor": 0,
  "metadata": {
    "colab": {
      "name": "kmeans.ipynb",
      "provenance": [],
      "authorship_tag": "ABX9TyPPDhporsUaWfioMGsL2HYP",
      "include_colab_link": true
    },
    "kernelspec": {
      "name": "python3",
      "display_name": "Python 3"
    },
    "language_info": {
      "name": "python"
    }
  },
  "cells": [
    {
      "cell_type": "markdown",
      "metadata": {
        "id": "view-in-github",
        "colab_type": "text"
      },
      "source": [
        "<a href=\"https://colab.research.google.com/github/SamillyNunes/machine-learning-study/blob/main/kmeans.ipynb\" target=\"_parent\"><img src=\"https://colab.research.google.com/assets/colab-badge.svg\" alt=\"Open In Colab\"/></a>"
      ]
    },
    {
      "cell_type": "markdown",
      "metadata": {
        "id": "DrUR3y0Rt4sS"
      },
      "source": [
        "# K-Means\n",
        "Algoritmos não supervisionados.\n",
        "K-Means = É um agrupador que utiliza a distância euclidiana para agrupar os dados a partir de um número de clusters definidos pelo usuário.\n",
        "\n",
        "Nesse exemplo, será agrupado sem utilizar a classe e comparar se o agrupamento terá similaridade com a classe existente."
      ]
    },
    {
      "cell_type": "code",
      "metadata": {
        "id": "sJJM4KG7t0Uu"
      },
      "source": [
        "# importacoes\n",
        "from sklearn import datasets\n",
        "import numpy as np\n",
        "from sklearn.metrics import confusion_matrix\n",
        "import matplotlib.pyplot as  plt\n",
        "from sklearn.cluster import KMeans"
      ],
      "execution_count": 1,
      "outputs": []
    },
    {
      "cell_type": "code",
      "metadata": {
        "colab": {
          "base_uri": "https://localhost:8080/"
        },
        "id": "baUzBw0yuafO",
        "outputId": "d6692a6b-5865-4654-e6a8-0601e5cde29d"
      },
      "source": [
        "# base de dados\n",
        "iris = datasets.load_iris()\n",
        "\n",
        "# Visualizao de qtos registros existem por classe\n",
        "unicos,quantidade = np.unique(iris.target,return_counts=True)\n",
        "unicos, quantidade"
      ],
      "execution_count": 4,
      "outputs": [
        {
          "output_type": "execute_result",
          "data": {
            "text/plain": [
              "(array([0, 1, 2]), array([50, 50, 50]))"
            ]
          },
          "metadata": {
            "tags": []
          },
          "execution_count": 4
        }
      ]
    },
    {
      "cell_type": "markdown",
      "metadata": {
        "id": "ZiROD6jrvikT"
      },
      "source": [
        "### Agrupamento"
      ]
    },
    {
      "cell_type": "code",
      "metadata": {
        "colab": {
          "base_uri": "https://localhost:8080/"
        },
        "id": "eLyqxqj4vP_u",
        "outputId": "51f70f79-7152-4a56-8d10-27337ab83d54"
      },
      "source": [
        "# Agrupamento utilizando 3 clusters, que eh a quantidade de classes possiveis\n",
        "cluster = KMeans(n_clusters=3)\n",
        "cluster.fit(iris.data)"
      ],
      "execution_count": 5,
      "outputs": [
        {
          "output_type": "execute_result",
          "data": {
            "text/plain": [
              "KMeans(algorithm='auto', copy_x=True, init='k-means++', max_iter=300,\n",
              "       n_clusters=3, n_init=10, n_jobs=None, precompute_distances='auto',\n",
              "       random_state=None, tol=0.0001, verbose=0)"
            ]
          },
          "metadata": {
            "tags": []
          },
          "execution_count": 5
        }
      ]
    },
    {
      "cell_type": "code",
      "metadata": {
        "colab": {
          "base_uri": "https://localhost:8080/"
        },
        "id": "-1cWFBrZvzql",
        "outputId": "a6a2a570-480a-48ec-8f2c-c3c64ef3dfcb"
      },
      "source": [
        "# visualizacao dos 3 centroides\n",
        "centroides = cluster.cluster_centers_\n",
        "centroides"
      ],
      "execution_count": 6,
      "outputs": [
        {
          "output_type": "execute_result",
          "data": {
            "text/plain": [
              "array([[5.006     , 3.428     , 1.462     , 0.246     ],\n",
              "       [5.9016129 , 2.7483871 , 4.39354839, 1.43387097],\n",
              "       [6.85      , 3.07368421, 5.74210526, 2.07105263]])"
            ]
          },
          "metadata": {
            "tags": []
          },
          "execution_count": 6
        }
      ]
    },
    {
      "cell_type": "code",
      "metadata": {
        "colab": {
          "base_uri": "https://localhost:8080/"
        },
        "id": "TeshCOkjNytW",
        "outputId": "9c0e9e33-6409-407a-9d54-336fb16d492b"
      },
      "source": [
        "# visualizar grupos qye cada registro foi associado\n",
        "previsoes = cluster.labels_\n",
        "previsoes"
      ],
      "execution_count": 7,
      "outputs": [
        {
          "output_type": "execute_result",
          "data": {
            "text/plain": [
              "array([0, 0, 0, 0, 0, 0, 0, 0, 0, 0, 0, 0, 0, 0, 0, 0, 0, 0, 0, 0, 0, 0,\n",
              "       0, 0, 0, 0, 0, 0, 0, 0, 0, 0, 0, 0, 0, 0, 0, 0, 0, 0, 0, 0, 0, 0,\n",
              "       0, 0, 0, 0, 0, 0, 1, 1, 2, 1, 1, 1, 1, 1, 1, 1, 1, 1, 1, 1, 1, 1,\n",
              "       1, 1, 1, 1, 1, 1, 1, 1, 1, 1, 1, 2, 1, 1, 1, 1, 1, 1, 1, 1, 1, 1,\n",
              "       1, 1, 1, 1, 1, 1, 1, 1, 1, 1, 1, 1, 2, 1, 2, 2, 2, 2, 1, 2, 2, 2,\n",
              "       2, 2, 2, 1, 1, 2, 2, 2, 2, 1, 2, 1, 2, 1, 2, 2, 1, 1, 2, 2, 2, 2,\n",
              "       2, 1, 2, 2, 2, 2, 1, 2, 2, 2, 1, 2, 2, 2, 1, 2, 2, 1], dtype=int32)"
            ]
          },
          "metadata": {
            "tags": []
          },
          "execution_count": 7
        }
      ]
    },
    {
      "cell_type": "code",
      "metadata": {
        "colab": {
          "base_uri": "https://localhost:8080/"
        },
        "id": "w1CXrmIeOB2w",
        "outputId": "86237be9-267f-4974-e4d6-a4a460e2c796"
      },
      "source": [
        "# contagem dos registros por classe na previsao\n",
        "unicos2, quantidade2 = np.unique(previsoes, return_counts=True)\n",
        "unicos2, quantidade2"
      ],
      "execution_count": 8,
      "outputs": [
        {
          "output_type": "execute_result",
          "data": {
            "text/plain": [
              "(array([0, 1, 2], dtype=int32), array([50, 62, 38]))"
            ]
          },
          "metadata": {
            "tags": []
          },
          "execution_count": 8
        }
      ]
    },
    {
      "cell_type": "code",
      "metadata": {
        "colab": {
          "base_uri": "https://localhost:8080/"
        },
        "id": "VwRruSToOaWO",
        "outputId": "0988b607-0d7e-4ec8-cd38-fe5eeabf0a1f"
      },
      "source": [
        "confusao = confusion_matrix(iris.target,previsoes)\n",
        "confusao"
      ],
      "execution_count": 9,
      "outputs": [
        {
          "output_type": "execute_result",
          "data": {
            "text/plain": [
              "array([[50,  0,  0],\n",
              "       [ 0, 48,  2],\n",
              "       [ 0, 14, 36]])"
            ]
          },
          "metadata": {
            "tags": []
          },
          "execution_count": 9
        }
      ]
    },
    {
      "cell_type": "code",
      "metadata": {
        "colab": {
          "base_uri": "https://localhost:8080/",
          "height": 285
        },
        "id": "GRaYo_9vOuTT",
        "outputId": "f45a724e-b541-4386-b00b-88dffaec153f"
      },
      "source": [
        "# graficos com os cluster gerados, considerando as previsoes\n",
        "plt.scatter(iris.data[previsoes==0,0], iris.data[previsoes==0,1], c='g', label='Setosa')\n",
        "plt.scatter(iris.data[previsoes==1,0], iris.data[previsoes==1,1], c='r', label='Versicolor')\n",
        "plt.scatter(iris.data[previsoes==2,0], iris.data[previsoes==2,1], c='b', label='Virginica')\n",
        "plt.legend()"
      ],
      "execution_count": 11,
      "outputs": [
        {
          "output_type": "execute_result",
          "data": {
            "text/plain": [
              "<matplotlib.legend.Legend at 0x7f99e2c6a850>"
            ]
          },
          "metadata": {
            "tags": []
          },
          "execution_count": 11
        },
        {
          "output_type": "display_data",
          "data": {
            "image/png": "[encoded data removed]",
            "text/plain": [
              "<Figure size 432x288 with 1 Axes>"
            ]
          },
          "metadata": {
            "tags": [],
            "needs_background": "light"
          }
        }
      ]
    }
  ]
}