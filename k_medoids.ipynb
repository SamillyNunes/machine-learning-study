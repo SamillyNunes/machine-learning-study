{
  "nbformat": 4,
  "nbformat_minor": 0,
  "metadata": {
    "colab": {
      "name": "k-medoids.ipynb",
      "provenance": [],
      "authorship_tag": "ABX9TyOeE/m03XdHs9egDzlaxUzN",
      "include_colab_link": true
    },
    "kernelspec": {
      "name": "python3",
      "display_name": "Python 3"
    },
    "language_info": {
      "name": "python"
    }
  },
  "cells": [
    {
      "cell_type": "markdown",
      "metadata": {
        "id": "view-in-github",
        "colab_type": "text"
      },
      "source": [
        "<a href=\"https://colab.research.google.com/github/SamillyNunes/machine-learning-study/blob/main/k_medoids.ipynb\" target=\"_parent\"><img src=\"https://colab.research.google.com/assets/colab-badge.svg\" alt=\"Open In Colab\"/></a>"
      ]
    },
    {
      "cell_type": "markdown",
      "metadata": {
        "id": "kAWkp1piWLP7"
      },
      "source": [
        "# K-Medoids\n",
        "É um agrupador - cluster - em que sua principal diferença é que o centro, ao invés de ser elementos aleatórios (como no k-means) são pontos reais de dados"
      ]
    },
    {
      "cell_type": "code",
      "metadata": {
        "colab": {
          "base_uri": "https://localhost:8080/"
        },
        "id": "YdqC-Y8VWyiq",
        "outputId": "3d79651c-c407-4df2-d9b1-42011df92fcb"
      },
      "source": [
        "!pip install pyclustering"
      ],
      "execution_count": 2,
      "outputs": [
        {
          "output_type": "stream",
          "text": [
            "Collecting pyclustering\n",
            "\u001b[?25l  Downloading https://files.pythonhosted.org/packages/4b/cf/6c1183d0c1e76df398d0808f78cabaedd87a1ca7548b9b03d51620ff55eb/pyclustering-0.10.1.2.tar.gz (2.6MB)\n",
            "\u001b[K     |████████████████████████████████| 2.6MB 5.1MB/s \n",
            "\u001b[?25hRequirement already satisfied: scipy>=1.1.0 in /usr/local/lib/python3.7/dist-packages (from pyclustering) (1.4.1)\n",
            "Requirement already satisfied: matplotlib>=3.0.0 in /usr/local/lib/python3.7/dist-packages (from pyclustering) (3.2.2)\n",
            "Requirement already satisfied: numpy>=1.15.2 in /usr/local/lib/python3.7/dist-packages (from pyclustering) (1.19.5)\n",
            "Requirement already satisfied: Pillow>=5.2.0 in /usr/local/lib/python3.7/dist-packages (from pyclustering) (7.1.2)\n",
            "Requirement already satisfied: cycler>=0.10 in /usr/local/lib/python3.7/dist-packages (from matplotlib>=3.0.0->pyclustering) (0.10.0)\n",
            "Requirement already satisfied: kiwisolver>=1.0.1 in /usr/local/lib/python3.7/dist-packages (from matplotlib>=3.0.0->pyclustering) (1.3.1)\n",
            "Requirement already satisfied: python-dateutil>=2.1 in /usr/local/lib/python3.7/dist-packages (from matplotlib>=3.0.0->pyclustering) (2.8.1)\n",
            "Requirement already satisfied: pyparsing!=2.0.4,!=2.1.2,!=2.1.6,>=2.0.1 in /usr/local/lib/python3.7/dist-packages (from matplotlib>=3.0.0->pyclustering) (2.4.7)\n",
            "Requirement already satisfied: six in /usr/local/lib/python3.7/dist-packages (from cycler>=0.10->matplotlib>=3.0.0->pyclustering) (1.15.0)\n",
            "Building wheels for collected packages: pyclustering\n",
            "  Building wheel for pyclustering (setup.py) ... \u001b[?25l\u001b[?25hdone\n",
            "  Created wheel for pyclustering: filename=pyclustering-0.10.1.2-cp37-none-any.whl size=2395105 sha256=2ce6c90b516a4e8612b4be2bba7a596dd8d1cd7c2ff3792ac60396e3b485ba29\n",
            "  Stored in directory: /root/.cache/pip/wheels/d4/98/57/2f53b94ccf47805e95e189e8a18f58a51ff61d67955b79c60d\n",
            "Successfully built pyclustering\n",
            "Installing collected packages: pyclustering\n",
            "Successfully installed pyclustering-0.10.1.2\n"
          ],
          "name": "stdout"
        }
      ]
    },
    {
      "cell_type": "code",
      "metadata": {
        "id": "RitXUTljWHz6"
      },
      "source": [
        "#imports\n",
        "from sklearn import datasets\n",
        "import numpy as np\n",
        "from sklearn.metrics import confusion_matrix\n",
        "from pyclustering.cluster.kmedoids import kmedoids\n",
        "from pyclustering.cluster import cluster_visualizer"
      ],
      "execution_count": 3,
      "outputs": []
    },
    {
      "cell_type": "code",
      "metadata": {
        "id": "fx4A13NvWrkc"
      },
      "source": [
        "# dados\n",
        "iris = datasets.load_iris()"
      ],
      "execution_count": 20,
      "outputs": []
    },
    {
      "cell_type": "code",
      "metadata": {
        "colab": {
          "base_uri": "https://localhost:8080/"
        },
        "id": "Dd5VR1MsXL81",
        "outputId": "8047a2a0-ea0a-4dfd-cb82-88b577b9c89b"
      },
      "source": [
        "# confi dos parametros do k-medoids utilizando somente as duas primeiras colunas da base de dados por causa da visualizacao apenas\n",
        "# 3,12, 20 sao os ptos de inicializacao= indices dos registros, ou seja, serao usados como centro\n",
        "cluster = kmedoids(iris.data[:,0:2], [3,12,20])\n",
        "\n",
        "#visualizacao dos ptos escolhidos\n",
        "cluster.get_medoids()"
      ],
      "execution_count": 21,
      "outputs": [
        {
          "output_type": "execute_result",
          "data": {
            "text/plain": [
              "[3, 12, 20]"
            ]
          },
          "metadata": {
            "tags": []
          },
          "execution_count": 21
        }
      ]
    },
    {
      "cell_type": "code",
      "metadata": {
        "colab": {
          "base_uri": "https://localhost:8080/"
        },
        "id": "UyzKfSWBX1x8",
        "outputId": "c805c8a2-874e-45c9-e1b1-35850a2fc5e1"
      },
      "source": [
        "# algoritmo para o agrupamento\n",
        "cluster.process()\n",
        "previsoes = cluster.get_clusters()\n",
        "medoides = cluster.get_medoids()\n",
        "\n",
        "# a previsoes eh uma lista de 3 elementos, justamente os 3 medoides, cada lista eh um cluster e os elementos sao os indices dos dados q fazem parte desse cluster\n",
        "# previsoes\n",
        "\n",
        "medoides"
      ],
      "execution_count": 22,
      "outputs": [
        {
          "output_type": "execute_result",
          "data": {
            "text/plain": [
              "[112, 82, 7]"
            ]
          },
          "metadata": {
            "tags": []
          },
          "execution_count": 22
        }
      ]
    },
    {
      "cell_type": "code",
      "metadata": {
        "colab": {
          "base_uri": "https://localhost:8080/",
          "height": 487
        },
        "id": "tn-zW7KUYPsT",
        "outputId": "d8a91111-bdd0-4f3d-d5d7-dfc7255e1875"
      },
      "source": [
        "# visualizacao\n",
        "v = cluster_visualizer()\n",
        "v.append_clusters(previsoes, iris.data[:,0:2])\n",
        "v.append_cluster(medoides, data=iris.data[:,0:2], marker=\"*\", markersize=20)\n",
        "v.show() "
      ],
      "execution_count": 23,
      "outputs": [
        {
          "output_type": "display_data",
          "data": {
            "image/png": "[encoded data removed]",
            "text/plain": [
              "<Figure size 432x288 with 1 Axes>"
            ]
          },
          "metadata": {
            "tags": [],
            "needs_background": "light"
          }
        },
        {
          "output_type": "execute_result",
          "data": {
            "image/png": "[encoded data removed]",
            "text/plain": [
              "<Figure size 432x288 with 1 Axes>"
            ]
          },
          "metadata": {
            "tags": []
          },
          "execution_count": 23
        }
      ]
    },
    {
      "cell_type": "code",
      "metadata": {
        "id": "hx7Uov39ZP2P"
      },
      "source": [
        "# criar, agora, duas listas: uma para os grupos reais do bd e outra com os valores dos grupos, para poder visualizar na matriz\n",
        "lista_previsoes = []\n",
        "lista_real = []\n",
        "\n",
        "for i in range(len(previsoes)): # vai rodar para cada cluster\n",
        "  for j in range(len(previsoes[i])): # para cada elemento no cluster\n",
        "    lista_previsoes.append(i)\n",
        "    lista_real.append(iris.target[previsoes[i][j]])"
      ],
      "execution_count": 24,
      "outputs": []
    },
    {
      "cell_type": "code",
      "metadata": {
        "id": "WHWcPojAZ-pk"
      },
      "source": [
        "lista_previsoes = np.asarray(lista_previsoes)\n",
        "lista_real = np.asarray(lista_real)\n"
      ],
      "execution_count": 25,
      "outputs": []
    },
    {
      "cell_type": "code",
      "metadata": {
        "colab": {
          "base_uri": "https://localhost:8080/"
        },
        "id": "938MMOfNZ-Ed",
        "outputId": "86f5f010-6944-4ce4-c390-0b1454fbcd79"
      },
      "source": [
        "confusao = confusion_matrix(lista_real,lista_previsoes)\n",
        "confusao"
      ],
      "execution_count": 26,
      "outputs": [
        {
          "output_type": "execute_result",
          "data": {
            "text/plain": [
              "array([[ 0,  0, 50],\n",
              "       [12, 38,  0],\n",
              "       [35, 14,  1]])"
            ]
          },
          "metadata": {
            "tags": []
          },
          "execution_count": 26
        }
      ]
    }
  ]
}